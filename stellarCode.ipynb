{
 "cells": [
  {
   "cell_type": "code",
   "execution_count": 1,
   "outputs": [],
   "source": [
    "import numpy as np\n",
    "import pandas as pd\n",
    "\n",
    "from shootf import *\n",
    "from newton import *\n",
    "from resulttolatex import *"
   ],
   "metadata": {
    "collapsed": false,
    "pycharm": {
     "name": "#%%\n"
    }
   }
  },
  {
   "cell_type": "code",
   "execution_count": 2,
   "outputs": [],
   "source": [
    "# improved_guess = TPStep(shootf, guess)\n",
    "# converged_solution = newton_raphson(shootf, guess)\n",
    "converged_solution = [5.88517721e+34, 1.65601693e+17, 1.16121430e+11, 2.06049885e+07] # copy pasted so we don't have to reeval every time"
   ],
   "metadata": {
    "collapsed": false,
    "pycharm": {
     "name": "#%%\n"
    }
   }
  },
  {
   "cell_type": "code",
   "execution_count": 3,
   "outputs": [
    {
     "name": "stdout",
     "output_type": "stream",
     "text": [
      "Percent Errors: [4.97487875 9.79121526 0.13475495 1.45504932]\n",
      "Convective Core.\n",
      "Fractional Errors: [-0.00967771 -0.00460754  0.00060394  0.00123419]\n"
     ]
    }
   ],
   "source": [
    "print('Percent Errors: {}'.format((MESA-converged_solution)/MESA*100))\n",
    "print('Fractional Errors: {}'.format(shootf(converged_solution)/converged_solution))"
   ],
   "metadata": {
    "collapsed": false,
    "pycharm": {
     "name": "#%%\n"
    }
   }
  },
  {
   "cell_type": "code",
   "execution_count": null,
   "outputs": [],
   "source": [
    "x_o, x_i, y_i, y_o = single_run(converged_solution)"
   ],
   "metadata": {
    "collapsed": false,
    "pycharm": {
     "name": "#%%\n"
    }
   }
  },
  {
   "cell_type": "code",
   "execution_count": null,
   "outputs": [],
   "source": [
    "resulttolatex(y_o, y_i, df_return=False);"
   ],
   "metadata": {
    "collapsed": false,
    "pycharm": {
     "name": "#%%\n"
    }
   }
  }
 ],
 "metadata": {
  "kernelspec": {
   "display_name": "Python 3",
   "language": "python",
   "name": "python3"
  },
  "language_info": {
   "codemirror_mode": {
    "name": "ipython",
    "version": 2
   },
   "file_extension": ".py",
   "mimetype": "text/x-python",
   "name": "python",
   "nbconvert_exporter": "python",
   "pygments_lexer": "ipython2",
   "version": "2.7.6"
  }
 },
 "nbformat": 4,
 "nbformat_minor": 0
}